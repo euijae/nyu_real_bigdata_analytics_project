{
 "cells": [
  {
   "cell_type": "code",
   "execution_count": 2,
   "metadata": {},
   "outputs": [
    {
     "name": "stdout",
     "output_type": "stream",
     "text": [
      "Collecting nba_api\n",
      "  Downloading nba_api-1.4.1-py3-none-any.whl.metadata (5.6 kB)\n",
      "Collecting certifi<2024.0.0,>=2023.7.22 (from nba_api)\n",
      "  Downloading certifi-2023.11.17-py3-none-any.whl.metadata (2.2 kB)\n",
      "Requirement already satisfied: numpy<2.0.0,>=1.22.2 in /opt/homebrew/lib/python3.11/site-packages (from nba_api) (1.24.2)\n",
      "Requirement already satisfied: requests<3.0,>=2.31 in /opt/homebrew/lib/python3.11/site-packages (from nba_api) (2.31.0)\n",
      "Requirement already satisfied: charset-normalizer<4,>=2 in /opt/homebrew/lib/python3.11/site-packages (from requests<3.0,>=2.31->nba_api) (3.1.0)\n",
      "Requirement already satisfied: idna<4,>=2.5 in /opt/homebrew/lib/python3.11/site-packages (from requests<3.0,>=2.31->nba_api) (3.4)\n",
      "Requirement already satisfied: urllib3<3,>=1.21.1 in /opt/homebrew/lib/python3.11/site-packages (from requests<3.0,>=2.31->nba_api) (1.26.15)\n",
      "Downloading nba_api-1.4.1-py3-none-any.whl (261 kB)\n",
      "\u001b[2K   \u001b[90m━━━━━━━━━━━━━━━━━━━━━━━━━━━━━━━━━━━━━━━━\u001b[0m \u001b[32m261.7/261.7 kB\u001b[0m \u001b[31m7.6 MB/s\u001b[0m eta \u001b[36m0:00:00\u001b[0m\n",
      "\u001b[?25hDownloading certifi-2023.11.17-py3-none-any.whl (162 kB)\n",
      "\u001b[2K   \u001b[90m━━━━━━━━━━━━━━━━━━━━━━━━━━━━━━━━━━━━━━━━\u001b[0m \u001b[32m162.5/162.5 kB\u001b[0m \u001b[31m22.1 MB/s\u001b[0m eta \u001b[36m0:00:00\u001b[0m\n",
      "\u001b[?25hInstalling collected packages: certifi, nba_api\n",
      "  Attempting uninstall: certifi\n",
      "    Found existing installation: certifi 2022.12.7\n",
      "    Uninstalling certifi-2022.12.7:\n",
      "      Successfully uninstalled certifi-2022.12.7\n",
      "Successfully installed certifi-2023.11.17 nba_api-1.4.1\n",
      "\n",
      "\u001b[1m[\u001b[0m\u001b[34;49mnotice\u001b[0m\u001b[1;39;49m]\u001b[0m\u001b[39;49m A new release of pip is available: \u001b[0m\u001b[31;49m23.3.1\u001b[0m\u001b[39;49m -> \u001b[0m\u001b[32;49m24.0\u001b[0m\n",
      "\u001b[1m[\u001b[0m\u001b[34;49mnotice\u001b[0m\u001b[1;39;49m]\u001b[0m\u001b[39;49m To update, run: \u001b[0m\u001b[32;49mpython3.11 -m pip install --upgrade pip\u001b[0m\n"
     ]
    }
   ],
   "source": [
    "!pip3 install nba_api"
   ]
  },
  {
   "cell_type": "code",
   "execution_count": 4,
   "metadata": {},
   "outputs": [
    {
     "data": {
      "text/plain": [
       "'{\"resource\": \"playercareerstats\", \"parameters\": {\"PerMode\": \"Totals\", \"PlayerID\": 203999, \"LeagueID\": null}, \"resultSets\": [{\"name\": \"SeasonTotalsRegularSeason\", \"headers\": [\"PLAYER_ID\", \"SEASON_ID\", \"LEAGUE_ID\", \"TEAM_ID\", \"TEAM_ABBREVIATION\", \"PLAYER_AGE\", \"GP\", \"GS\", \"MIN\", \"FGM\", \"FGA\", \"FG_PCT\", \"FG3M\", \"FG3A\", \"FG3_PCT\", \"FTM\", \"FTA\", \"FT_PCT\", \"OREB\", \"DREB\", \"REB\", \"AST\", \"STL\", \"BLK\", \"TOV\", \"PF\", \"PTS\"], \"rowSet\": [[203999, \"2015-16\", \"00\", 1610612743, \"DEN\", 21.0, 80, 55, 1733.0, 307, 600, 0.512, 28, 84, 0.333, 154, 190, 0.811, 181, 379, 560, 189, 79, 50, 104, 208, 796], [203999, \"2016-17\", \"00\", 1610612743, \"DEN\", 22.0, 73, 59, 2038.0, 494, 854, 0.578, 45, 139, 0.324, 188, 228, 0.825, 212, 506, 718, 359, 61, 55, 171, 214, 1221], [203999, \"2017-18\", \"00\", 1610612743, \"DEN\", 23.0, 75, 73, 2443.0, 504, 1010, 0.499, 111, 280, 0.396, 266, 313, 0.85, 195, 608, 803, 458, 90, 61, 210, 212, 1385], [203999, \"2018-19\", \"00\", 1610612743, \"DEN\", 24.0, 80, 80, 2504.0, 616, 1206, 0.511, 83, 270, 0.307, 289, 352, 0.821, 228, 637, 865, 580, 108, 55, 248, 228, 1604], [203999, \"2019-20\", \"00\", 1610612743, \"DEN\", 25.0, 73, 73, 2335.0, 565, 1071, 0.528, 80, 255, 0.314, 246, 301, 0.817, 166, 545, 711, 512, 85, 44, 226, 222, 1456], [203999, \"2020-21\", \"00\", 1610612743, \"DEN\", 26.0, 72, 72, 2488.0, 732, 1293, 0.566, 92, 237, 0.388, 342, 394, 0.868, 205, 575, 780, 599, 95, 48, 222, 192, 1898], [203999, \"2021-22\", \"00\", 1610612743, \"DEN\", 27.0, 74, 74, 2476.0, 764, 1311, 0.583, 97, 288, 0.337, 379, 468, 0.81, 206, 813, 1019, 584, 109, 63, 281, 191, 2004], [203999, \"2022-23\", \"00\", 1610612743, \"DEN\", 28.0, 69, 69, 2323.0, 646, 1022, 0.632, 57, 149, 0.383, 341, 415, 0.822, 167, 650, 817, 678, 87, 47, 247, 174, 1690], [203999, \"2023-24\", \"00\", 1610612743, \"DEN\", 29.0, 63, 63, 2158.0, 648, 1114, 0.582, 65, 186, 0.349, 288, 348, 0.828, 184, 589, 773, 580, 81, 59, 184, 159, 1649]]}, {\"name\": \"CareerTotalsRegularSeason\", \"headers\": [\"PLAYER_ID\", \"LEAGUE_ID\", \"Team_ID\", \"GP\", \"GS\", \"MIN\", \"FGM\", \"FGA\", \"FG_PCT\", \"FG3M\", \"FG3A\", \"FG3_PCT\", \"FTM\", \"FTA\", \"FT_PCT\", \"OREB\", \"DREB\", \"REB\", \"AST\", \"STL\", \"BLK\", \"TOV\", \"PF\", \"PTS\"], \"rowSet\": [[203999, \"00\", 0, 659, 618, 20497.0, 5276, 9481, 0.556481, 658, 1888, 0.348516, 2493, 3009, 0.828514, 1744, 5302, 7046, 4539, 795, 482, 1893, 1800, 13703]]}, {\"name\": \"SeasonTotalsPostSeason\", \"headers\": [\"PLAYER_ID\", \"SEASON_ID\", \"LEAGUE_ID\", \"TEAM_ID\", \"TEAM_ABBREVIATION\", \"PLAYER_AGE\", \"GP\", \"GS\", \"MIN\", \"FGM\", \"FGA\", \"FG_PCT\", \"FG3M\", \"FG3A\", \"FG3_PCT\", \"FTM\", \"FTA\", \"FT_PCT\", \"OREB\", \"DREB\", \"REB\", \"AST\", \"STL\", \"BLK\", \"TOV\", \"PF\", \"PTS\"], \"rowSet\": [[203999, \"2018-19\", \"00\", 1610612743, \"DEN\", 24.0, 14, 14, 556.0, 132, 261, 0.506, 22, 56, 0.393, 66, 78, 0.846, 54, 128, 182, 118, 16, 13, 36, 54, 352], [203999, \"2019-20\", \"00\", 1610612743, \"DEN\", 25.0, 19, 19, 694.0, 178, 343, 0.519, 42, 98, 0.429, 66, 79, 0.835, 37, 150, 187, 109, 20, 15, 62, 68, 464], [203999, \"2020-21\", \"00\", 1610612743, \"DEN\", 26.0, 10, 10, 345.0, 116, 228, 0.509, 20, 53, 0.377, 46, 55, 0.836, 37, 79, 116, 50, 6, 9, 24, 23, 298], [203999, \"2021-22\", \"00\", 1610612743, \"DEN\", 27.0, 5, 5, 171.0, 61, 106, 0.575, 5, 18, 0.278, 28, 33, 0.848, 17, 49, 66, 29, 8, 5, 24, 20, 155], [203999, \"2022-23\", \"00\", 1610612743, \"DEN\", 28.0, 20, 20, 789.0, 227, 414, 0.548, 35, 76, 0.461, 111, 139, 0.799, 69, 200, 269, 190, 21, 20, 70, 69, 600]]}, {\"name\": \"CareerTotalsPostSeason\", \"headers\": [\"PLAYER_ID\", \"LEAGUE_ID\", \"Team_ID\", \"GP\", \"GS\", \"MIN\", \"FGM\", \"FGA\", \"FG_PCT\", \"FG3M\", \"FG3A\", \"FG3_PCT\", \"FTM\", \"FTA\", \"FT_PCT\", \"OREB\", \"DREB\", \"REB\", \"AST\", \"STL\", \"BLK\", \"TOV\", \"PF\", \"PTS\"], \"rowSet\": [[203999, \"00\", 0, 68, 68, 2556.0, 714, 1352, 0.528106, 124, 301, 0.41196, 317, 384, 0.82552, 214, 606, 820, 496, 71, 62, 216, 234, 1869]]}, {\"name\": \"SeasonTotalsAllStarSeason\", \"headers\": [\"PLAYER_ID\", \"SEASON_ID\", \"LEAGUE_ID\", \"TEAM_ID\", \"TEAM_ABBREVIATION\", \"PLAYER_AGE\", \"GP\", \"GS\", \"MIN\", \"FGM\", \"FGA\", \"FG_PCT\", \"FG3M\", \"FG3A\", \"FG3_PCT\", \"FTM\", \"FTA\", \"FT_PCT\", \"OREB\", \"DREB\", \"REB\", \"AST\", \"STL\", \"BLK\", \"TOV\", \"PF\", \"PTS\"], \"rowSet\": [[203999, \"2018-19\", \"00\", 1610616833, \"GNS\", 24.0, 1, 0, 13.0, 3, 4, 0.75, 0, 0, 0.0, 0, 0, 0.0, 3, 6, 9, 0, 0, 0, 1, 1, 6], [203999, \"2019-20\", \"00\", 1610616834, \"LBN\", 25.0, 1, 0, 12.0, 2, 4, 0.5, 1, 3, 0.333, 0, 0, 0.0, 0, 2, 2, 1, 1, 0, 0, 1, 5], [203999, \"2020-21\", \"00\", 1610616834, \"LBN\", 26.0, 1, 1, 19.0, 3, 4, 0.75, 0, 0, 0.0, 0, 0, 0.0, 0, 7, 7, 5, 0, 1, 2, 1, 6], [203999, \"2021-22\", \"00\", 1610616834, \"LBN\", 27.0, 1, 1, 21.0, 4, 5, 0.8, 2, 3, 0.667, 0, 0, 0.0, 3, 6, 9, 8, 1, 0, 1, 0, 10], [203999, \"2022-23\", \"00\", 1610616834, \"LBN\", 28.0, 1, 1, 20.0, 2, 4, 0.5, 0, 1, 0.0, 0, 0, 0.0, 3, 2, 5, 6, 2, 0, 2, 0, 4], [203999, \"2023-24\", \"00\", 1610616834, \"WST\", 29.0, 1, 1, 23.0, 6, 8, 0.75, 1, 1, 1.0, 0, 0, 0.0, 3, 1, 4, 9, 2, 0, 1, 1, 13]]}, {\"name\": \"CareerTotalsAllStarSeason\", \"headers\": [\"PLAYER_ID\", \"LEAGUE_ID\", \"Team_ID\", \"GP\", \"GS\", \"MIN\", \"FGM\", \"FGA\", \"FG_PCT\", \"FG3M\", \"FG3A\", \"FG3_PCT\", \"FTM\", \"FTA\", \"FT_PCT\", \"OREB\", \"DREB\", \"REB\", \"AST\", \"STL\", \"BLK\", \"TOV\", \"PF\", \"PTS\"], \"rowSet\": [[203999, \"00\", 0, 6, 4, 109.0, 20, 29, 0.689655, 4, 8, 0.5, 0, 0, 0.0, 12, 24, 36, 29, 6, 1, 7, 4, 44]]}, {\"name\": \"SeasonTotalsCollegeSeason\", \"headers\": [\"PLAYER_ID\", \"SEASON_ID\", \"LEAGUE_ID\", \"ORGANIZATION_ID\", \"SCHOOL_NAME\", \"PLAYER_AGE\", \"GP\", \"GS\", \"MIN\", \"FGM\", \"FGA\", \"FG_PCT\", \"FG3M\", \"FG3A\", \"FG3_PCT\", \"FTM\", \"FTA\", \"FT_PCT\", \"OREB\", \"DREB\", \"REB\", \"AST\", \"STL\", \"BLK\", \"TOV\", \"PF\", \"PTS\"], \"rowSet\": []}, {\"name\": \"CareerTotalsCollegeSeason\", \"headers\": [\"PLAYER_ID\", \"LEAGUE_ID\", \"ORGANIZATION_ID\", \"GP\", \"GS\", \"MIN\", \"FGM\", \"FGA\", \"FG_PCT\", \"FG3M\", \"FG3A\", \"FG3_PCT\", \"FTM\", \"FTA\", \"FT_PCT\", \"OREB\", \"DREB\", \"REB\", \"AST\", \"STL\", \"BLK\", \"TOV\", \"PF\", \"PTS\"], \"rowSet\": []}, {\"name\": \"SeasonTotalsShowcaseSeason\", \"headers\": [\"PLAYER_ID\", \"SEASON_ID\", \"LEAGUE_ID\", \"TEAM_ID\", \"TEAM_ABBREVIATION\", \"PLAYER_AGE\", \"GP\", \"GS\", \"MIN\", \"FGM\", \"FGA\", \"FG_PCT\", \"FG3M\", \"FG3A\", \"FG3_PCT\", \"FTM\", \"FTA\", \"FT_PCT\", \"OREB\", \"DREB\", \"REB\", \"AST\", \"STL\", \"BLK\", \"TOV\", \"PF\", \"PTS\"], \"rowSet\": []}, {\"name\": \"CareerTotalsShowcaseSeason\", \"headers\": [\"PLAYER_ID\", \"LEAGUE_ID\", \"Team_ID\", \"GP\", \"GS\", \"MIN\", \"FGM\", \"FGA\", \"FG_PCT\", \"FG3M\", \"FG3A\", \"FG3_PCT\", \"FTM\", \"FTA\", \"FT_PCT\", \"OREB\", \"DREB\", \"REB\", \"AST\", \"STL\", \"BLK\", \"TOV\", \"PF\", \"PTS\"], \"rowSet\": []}, {\"name\": \"SeasonRankingsRegularSeason\", \"headers\": [\"PLAYER_ID\", \"SEASON_ID\", \"LEAGUE_ID\", \"TEAM_ID\", \"TEAM_ABBREVIATION\", \"PLAYER_AGE\", \"GP\", \"GS\", \"RANK_MIN\", \"RANK_FGM\", \"RANK_FGA\", \"RANK_FG_PCT\", \"RANK_FG3M\", \"RANK_FG3A\", \"RANK_FG3_PCT\", \"RANK_FTM\", \"RANK_FTA\", \"RANK_FT_PCT\", \"RANK_OREB\", \"RANK_DREB\", \"RANK_REB\", \"RANK_AST\", \"RANK_STL\", \"RANK_BLK\", \"RANK_TOV\", \"RANK_PTS\", \"RANK_EFF\"], \"rowSet\": [[203999, \"2015-16\", \"00\", 1610612743, \"DEN\", \"NR\", \"NR\", \"NR\", 152, 112, 135, 18, 223, 227, null, 90, 104, 58, 24, 45, 38, 82, 61, 68, 115, 120, 50], [203999, \"2016-17\", \"00\", 1610612743, \"DEN\", \"NR\", \"NR\", \"NR\", 108, 34, 68, 6, 192, 188, null, 61, 65, 46, 12, 17, 13, 31, 106, 51, 32, 41, 17], [203999, \"2017-18\", \"00\", 1610612743, \"DEN\", \"NR\", \"NR\", \"NR\", 40, 29, 36, 29, 88, 99, 35, 25, 30, 26, 10, 8, 7, 12, 38, 47, 16, 26, 8], [203999, \"2018-19\", \"00\", 1610612743, \"DEN\", \"NR\", \"NR\", \"NR\", 34, 19, 25, 31, 128, 107, 128, 28, 34, 52, 10, 9, 8, 6, 19, 53, 9, 22, 4], [203999, \"2019-20\", \"00\", 1610612743, \"DEN\", \"NR\", \"NR\", \"NR\", 11, 11, 21, 19, 127, 102, 142, 29, 30, 56, 14, 8, 8, 6, 25, 63, 8, 18, 3], [203999, \"2020-21\", \"00\", 1610612743, \"DEN\", \"NR\", \"NR\", \"NR\", 3, 1, 8, 14, 117, 132, 75, 12, 14, 26, 8, 7, 5, 3, 11, 55, 5, 3, 1], [203999, \"2021-22\", \"00\", 1610612743, \"DEN\", \"NR\", \"NR\", \"NR\", 18, 2, 8, 8, 121, 110, 120, 9, 8, 63, 13, 1, 1, 6, 10, 34, 5, 5, 1], [203999, \"2022-23\", \"00\", 1610612743, \"DEN\", \"NR\", \"NR\", \"NR\", 47, 13, 47, 8, 208, 220, null, 23, 22, 58, 25, 3, 3, 2, 28, 62, 5, 17, 1], [203999, \"2023-24\", \"00\", 1610612743, \"DEN\", \"NR\", \"NR\", \"NR\", 12, 4, 12, 11, 164, 157, 135, 17, 19, 51, 8, 2, 3, 2, 9, 31, 10, 5, 1]]}, {\"name\": \"SeasonRankingsPostSeason\", \"headers\": [\"PLAYER_ID\", \"SEASON_ID\", \"LEAGUE_ID\", \"TEAM_ID\", \"TEAM_ABBREVIATION\", \"PLAYER_AGE\", \"GP\", \"GS\", \"RANK_MIN\", \"RANK_FGM\", \"RANK_FGA\", \"RANK_FG_PCT\", \"RANK_FG3M\", \"RANK_FG3A\", \"RANK_FG3_PCT\", \"RANK_FTM\", \"RANK_FTA\", \"RANK_FT_PCT\", \"RANK_OREB\", \"RANK_DREB\", \"RANK_REB\", \"RANK_AST\", \"RANK_STL\", \"RANK_BLK\", \"RANK_TOV\", \"RANK_PTS\", \"RANK_EFF\"], \"rowSet\": [[203999, \"2018-19\", \"00\", 1610612743, \"DEN\", \"NR\", \"NR\", \"NR\", 13, 7, 9, 14, 20, 28, 29, 8, 10, 27, 1, 6, 4, 4, 18, 14, 12, 10, 4], [203999, \"2019-20\", \"00\", 1610612743, \"DEN\", \"NR\", \"NR\", \"NR\", 6, 4, 4, 12, 10, 16, 19, 10, 10, 31, 4, 2, 4, 4, 11, 8, 2, 5, 3], [203999, \"2020-21\", \"00\", 1610612743, \"DEN\", \"NR\", \"NR\", \"NR\", 37, 13, 13, 18, 36, 38, 44, 14, 15, 30, 8, 16, 12, 20, 58, 25, 19, 14, 13], [203999, \"2021-22\", \"00\", 1610612743, \"DEN\", \"NR\", \"NR\", \"NR\", 85, 32, 44, 7, 97, 90, 79, 32, 34, 21, 26, 38, 35, 44, 51, 53, 27, 38, 37], [203999, \"2022-23\", \"00\", 1610612743, \"DEN\", \"NR\", \"NR\", \"NR\", 5, 1, 2, 11, 14, 25, 12, 3, 2, 32, 1, 1, 1, 1, 8, 6, 1, 1, 1]]}]}'"
      ]
     },
     "execution_count": 4,
     "metadata": {},
     "output_type": "execute_result"
    }
   ],
   "source": [
    "from nba_api.stats.endpoints import playercareerstats\n",
    "\n",
    "# Nikola Jokić\n",
    "career = playercareerstats.PlayerCareerStats(player_id='203999') \n",
    "\n",
    "# pandas data frames (optional: pip install pandas)\n",
    "# career.get_data_frames()[0]\n",
    "\n",
    "# json\n",
    "career.get_json()\n",
    "\n",
    "# dictionary\n",
    "# career.get_dict()"
   ]
  }
 ],
 "metadata": {
  "kernelspec": {
   "display_name": "Python 3.11.6 64-bit",
   "language": "python",
   "name": "python3"
  },
  "language_info": {
   "codemirror_mode": {
    "name": "ipython",
    "version": 3
   },
   "file_extension": ".py",
   "mimetype": "text/x-python",
   "name": "python",
   "nbconvert_exporter": "python",
   "pygments_lexer": "ipython3",
   "version": "3.11.6"
  },
  "orig_nbformat": 4,
  "vscode": {
   "interpreter": {
    "hash": "b0fa6594d8f4cbf19f97940f81e996739fb7646882a419484c72d19e05852a7e"
   }
  }
 },
 "nbformat": 4,
 "nbformat_minor": 2
}
