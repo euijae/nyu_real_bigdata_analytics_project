{
 "cells": [
  {
   "cell_type": "code",
   "execution_count": null,
   "metadata": {},
   "outputs": [],
   "source": [
    "import os\n",
    "\n",
    "# Import necessary libraries for pipeline and accuracy calculation\n",
    "from transformers import pipeline\n",
    "import torch\n",
    "from tqdm import tqdm\n",
    "# Load your model pipeline\n"
   ]
  },
  {
   "cell_type": "code",
   "execution_count": null,
   "metadata": {},
   "outputs": [],
   "source": [
    "video_cls = pipeline(model=\"devd-99/videomae-base-finetuned-ucf101-subset\")  # Adjust 'device' if using a GPU\n",
    "\n",
    "# Path to your test dataset\n",
    "dataset_root_path = './m2/train'\n",
    "class_folders = ['made', 'missed']\n",
    "\n",
    "correct_predictions = 0\n",
    "total_predictions = 0\n",
    "\n",
    "with open(\"predictions_table.csv\", \"w\") as f:\n",
    "\n",
    "    f.write(\"Video_File, Predicted_class, Actual_Class, Confidence, Logits\\n\")  # Write the header\n",
    "# Iterate over each class folder\n",
    "    for class_folder in tqdm(class_folders, desc='Class Folders'):\n",
    "        folder_path = os.path.join(dataset_root_path, class_folder)\n",
    "        # List all video files in the directory\n",
    "        video_files = [file for file in os.listdir(folder_path) if file.endswith('.mp4')]\n",
    "\n",
    "        # Predict the class for each video using tqdm for progress\n",
    "        for video_file in tqdm(video_files, desc=f'Processing {class_folder}'):\n",
    "            video_path = os.path.join(folder_path, video_file)\n",
    "            predictions = video_cls(video_path)\n",
    "\n",
    "            #return_all_scores gives you logits\n",
    "            # Assuming your predictions is list of list\n",
    "            logits = np.array([prediction[0]['score'] for prediction in predictions]) \n",
    "\n",
    "            # Get the predicted class with the highest score\n",
    "            predicted_class = max(predictions, key=lambda x: x['score'])['label']\n",
    "\n",
    "             # Get the confidence of the prediction\n",
    "            confidence = max(predictions[0], key=lambda x: x['score'])['score']\n",
    "\n",
    "            # # Write the prediction and actual class to the file\n",
    "            # f.write(f\"{predicted_class},{class_folder}\\n\")\n",
    "\n",
    "            # Check if the prediction matches the true class\n",
    "            if predicted_class == class_folder:\n",
    "                correct_predictions += 1\n",
    "            total_predictions += 1\n",
    "\n",
    "\n",
    "           \n",
    "\n",
    "            # Write results to CSV\n",
    "            f.write({f\" {video_file}, {predicted_class}, {class_folder}, {confidence}, {logits} \\n \"\n",
    "                 # Store the logits\n",
    "            })\n",
    "\n",
    "# Calculate the accuracy\n",
    "accuracy = correct_predictions / total_predictions if total_predictions > 0 else 0\n",
    "print(f\"Accuracy: {accuracy:.2f}\")"
   ]
  }
 ],
 "metadata": {
  "kernelspec": {
   "display_name": "Python 3.12.3 64-bit",
   "language": "python",
   "name": "python3"
  },
  "language_info": {
   "name": "python",
   "version": "3.12.3"
  },
  "orig_nbformat": 4,
  "vscode": {
   "interpreter": {
    "hash": "b0fa6594d8f4cbf19f97940f81e996739fb7646882a419484c72d19e05852a7e"
   }
  }
 },
 "nbformat": 4,
 "nbformat_minor": 2
}
